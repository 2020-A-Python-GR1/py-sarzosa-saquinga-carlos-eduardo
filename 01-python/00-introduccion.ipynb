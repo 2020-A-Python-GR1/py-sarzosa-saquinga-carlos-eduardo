{
 "cells": [
  {
   "cell_type": "markdown",
   "metadata": {},
   "source": [
    "# Introducción a Python"
   ]
  },
  {
   "cell_type": "code",
   "execution_count": 2,
   "metadata": {},
   "outputs": [
    {
     "name": "stdout",
     "output_type": "stream",
     "text": [
      "Hola Mundo\n"
     ]
    }
   ],
   "source": [
    "print (\"Hola Mundo\")"
   ]
  },
  {
   "cell_type": "code",
   "execution_count": 30,
   "metadata": {},
   "outputs": [
    {
     "name": "stdout",
     "output_type": "stream",
     "text": [
      "<class 'int'> <class 'float'> <class 'str'> <class 'str'> <class 'bool'> <class 'bool'> <class 'NoneType'>\n",
      "Carlos\n"
     ]
    }
   ],
   "source": [
    "# No tipado \n",
    "# No es necesario definir el tipo de variable\n",
    "# Una variable puede ser reasiganada a cualquier tipo\n",
    "entero = 4\n",
    "decimales = 1.1\n",
    "nombre = \"Carlos\"\n",
    "segundo_nombre = \"Sarzosa\"\n",
    "casado = False\n",
    "estudiante = True\n",
    "hijos = None\n",
    "\n",
    "print (type(entero),\n",
    "       type(decimales),\n",
    "       type(nombre),\n",
    "       type(segundo_nombre),\n",
    "       type(casado),\n",
    "       type(estudiante),\n",
    "       type(hijos))\n",
    "\n",
    "print(nombre)"
   ]
  },
  {
   "cell_type": "code",
   "execution_count": 3,
   "metadata": {},
   "outputs": [
    {
     "name": "stdout",
     "output_type": "stream",
     "text": [
      "4\n"
     ]
    }
   ],
   "source": [
    "print (entero)"
   ]
  },
  {
   "cell_type": "code",
   "execution_count": 6,
   "metadata": {},
   "outputs": [],
   "source": [
    "# Condiciones\n",
    "# Truty - Falsy\n",
    "# Tuplas ()\n",
    "# Listas []\n",
    "# Diccionario {}"
   ]
  },
  {
   "cell_type": "code",
   "execution_count": 7,
   "metadata": {},
   "outputs": [
    {
     "name": "stdout",
     "output_type": "stream",
     "text": [
      "Falsy\n"
     ]
    }
   ],
   "source": [
    "if(''):\n",
    "    print('Truty')\n",
    "else:\n",
    "    print('Falsy')"
   ]
  },
  {
   "cell_type": "code",
   "execution_count": 1,
   "metadata": {},
   "outputs": [
    {
     "name": "stdout",
     "output_type": "stream",
     "text": [
      "Falsy\n"
     ]
    }
   ],
   "source": [
    "if([]):\n",
    "    print('Truty')\n",
    "else:\n",
    "    print('Falsy')"
   ]
  },
  {
   "cell_type": "code",
   "execution_count": 2,
   "metadata": {},
   "outputs": [
    {
     "name": "stdout",
     "output_type": "stream",
     "text": [
      "Truty\n"
     ]
    }
   ],
   "source": [
    "if([1,2,3]):\n",
    "    print('Truty')\n",
    "else:\n",
    "    print('Falsy')"
   ]
  },
  {
   "cell_type": "code",
   "execution_count": 5,
   "metadata": {},
   "outputs": [
    {
     "name": "stdout",
     "output_type": "stream",
     "text": [
      "Truty\n"
     ]
    }
   ],
   "source": [
    "nombre =\"Carlos\"\n",
    "if({nombre:\"Carlos\"}):\n",
    "    print('Truty')\n",
    "else:\n",
    "    print('Falsy')"
   ]
  },
  {
   "cell_type": "code",
   "execution_count": 6,
   "metadata": {},
   "outputs": [
    {
     "name": "stdout",
     "output_type": "stream",
     "text": [
      "Falsy\n"
     ]
    }
   ],
   "source": [
    "if({}):\n",
    "    print('Truty')\n",
    "else:\n",
    "    print('Falsy')"
   ]
  },
  {
   "cell_type": "code",
   "execution_count": 22,
   "metadata": {},
   "outputs": [
    {
     "data": {
      "text/plain": [
       "[1, 2, 3, 4, 5, 6, 7, 8, 9, 10]"
      ]
     },
     "execution_count": 22,
     "metadata": {},
     "output_type": "execute_result"
    }
   ],
   "source": [
    "arreglo = [1, 2, 3, 4, 5, 6, 7, 8, 9, 10]\n",
    "arreglo [0:3]   # 0,3\n",
    "arreglo [5:]    # Hasta el final\n",
    "arreglo [:7]    # Desde el principio\n",
    "arreglo [-1]    # Indice Negativo Empieza desde el final\n",
    "arreglo [3:-2]\n",
    "arreglo [-8:8]\n",
    "arreglo [-4:-1]\n",
    "arreglo [-7:]\n",
    "arreglo [:-3]\n",
    "arreglo [:]     #Toma todo el arreglo, es una forma de clonar el arreglo"
   ]
  },
  {
   "cell_type": "code",
   "execution_count": 26,
   "metadata": {},
   "outputs": [
    {
     "data": {
      "text/plain": [
       "(6, 7, 8, 9)"
      ]
     },
     "execution_count": 26,
     "metadata": {},
     "output_type": "execute_result"
    }
   ],
   "source": [
    "arregloTupla = (1,2,3,4,5,6,7,8,9,10)\n",
    "arregloTupla[5:9]"
   ]
  },
  {
   "cell_type": "code",
   "execution_count": 29,
   "metadata": {},
   "outputs": [
    {
     "data": {
      "text/plain": [
       "'Carlos'"
      ]
     },
     "execution_count": 29,
     "metadata": {},
     "output_type": "execute_result"
    }
   ],
   "source": [
    "diccionario = { \n",
    "    \"nombre\":\"Carlos\",\n",
    "    \"apellido\":\"Sarzosa\", \n",
    "    \"sueldo\": 1.2 \n",
    "}\n",
    "\n",
    "diccionario [\"nombre\"]"
   ]
  },
  {
   "cell_type": "code",
   "execution_count": 31,
   "metadata": {},
   "outputs": [],
   "source": [
    "# Las tuplas y las listas, funcionan mas como arreglos\n",
    "# Los diccionarios funcionan con un valor."
   ]
  },
  {
   "cell_type": "code",
   "execution_count": 33,
   "metadata": {},
   "outputs": [
    {
     "data": {
      "text/plain": [
       "True"
      ]
     },
     "execution_count": 33,
     "metadata": {},
     "output_type": "execute_result"
    }
   ],
   "source": [
    "# Palabra Clave in\n",
    "12 in arreglo  # Para saber si existe el valor en el arreglo\n",
    "10 in arreglo  # Devuelve un boleano, forma util de buscar en arreglos"
   ]
  },
  {
   "cell_type": "code",
   "execution_count": 34,
   "metadata": {},
   "outputs": [
    {
     "data": {
      "text/plain": [
       "10"
      ]
     },
     "execution_count": 34,
     "metadata": {},
     "output_type": "execute_result"
    }
   ],
   "source": [
    "#Longitud del arreglo\n",
    "len(arreglo)\n",
    "len(arregloTupla)\n",
    "len(diccionario)"
   ]
  },
  {
   "cell_type": "code",
   "execution_count": 41,
   "metadata": {},
   "outputs": [
    {
     "data": {
      "text/plain": [
       "True"
      ]
     },
     "execution_count": 41,
     "metadata": {},
     "output_type": "execute_result"
    }
   ],
   "source": [
    "# Para diccionarios se debe trabajar con Key \"Llaves\"\n",
    "\"nombre\" in diccionario"
   ]
  },
  {
   "cell_type": "code",
   "execution_count": 40,
   "metadata": {},
   "outputs": [],
   "source": [
    "# En las tuplas no se puede eliminar o añadir elementos, \n",
    "# Solo se puede realizar en las listas\n",
    "# Una tupla es estatica, no se puede modificar.\n",
    "# Modificar valores de una tupla, no permite, solo son elelentos de lectura."
   ]
  },
  {
   "cell_type": "code",
   "execution_count": 44,
   "metadata": {},
   "outputs": [],
   "source": [
    "arreglo[0] = 2"
   ]
  },
  {
   "cell_type": "code",
   "execution_count": 45,
   "metadata": {},
   "outputs": [
    {
     "data": {
      "text/plain": [
       "[2, 2, 3, 4, 5, 6, 7, 8, 9, 10]"
      ]
     },
     "execution_count": 45,
     "metadata": {},
     "output_type": "execute_result"
    }
   ],
   "source": [
    "arreglo"
   ]
  },
  {
   "cell_type": "code",
   "execution_count": 46,
   "metadata": {},
   "outputs": [],
   "source": [
    "#Algunas funciones para los arreglos\n",
    "#arreglo.pop\n",
    "#arreglo.append\n",
    "#arreglo.insert"
   ]
  },
  {
   "cell_type": "code",
   "execution_count": 47,
   "metadata": {},
   "outputs": [
    {
     "name": "stdout",
     "output_type": "stream",
     "text": [
      "2\n",
      "2\n",
      "3\n",
      "4\n",
      "5\n",
      "6\n",
      "7\n",
      "8\n",
      "9\n",
      "10\n"
     ]
    }
   ],
   "source": [
    "for numeroLista in arreglo:\n",
    "    print(numeroLista)"
   ]
  },
  {
   "cell_type": "code",
   "execution_count": 48,
   "metadata": {},
   "outputs": [
    {
     "name": "stdout",
     "output_type": "stream",
     "text": [
      "nombre\n",
      "apellido\n",
      "sueldo\n"
     ]
    }
   ],
   "source": [
    "for key in diccionario:\n",
    "    print(key)"
   ]
  },
  {
   "cell_type": "code",
   "execution_count": 53,
   "metadata": {},
   "outputs": [
    {
     "name": "stdout",
     "output_type": "stream",
     "text": [
      "0\n",
      "1\n",
      "2\n",
      "3\n",
      "4\n",
      "5\n",
      "6\n",
      "7\n",
      "8\n",
      "9\n"
     ]
    }
   ],
   "source": [
    "contador = 0\n",
    "while contador < 10:\n",
    "    print(contador)\n",
    "    contador+=1"
   ]
  },
  {
   "cell_type": "code",
   "execution_count": 62,
   "metadata": {},
   "outputs": [],
   "source": [
    "# En los diccionarios se puede guardar cualquier cosa o valor\n",
    "# Recomendado no usar esta sitaxis.\n",
    "carlos = {\n",
    "    True: \"Carlos\",\n",
    "    False: \"Sarzosa\",\n",
    "    1: 1.2,\n",
    "    1.1: 89,\n",
    "    'edad': 31,\n",
    "    \"mascotas\": [{\"nombre\":\"oso\"}],\n",
    "    None:None\n",
    "}\n",
    "\n",
    "carlos['edad'] = 25\n",
    "carlos['apellido'] = 'Sarzosa'"
   ]
  },
  {
   "cell_type": "code",
   "execution_count": 60,
   "metadata": {},
   "outputs": [],
   "source": [
    "# Los diccionarios \"Key\" se debe usar como Strings."
   ]
  }
 ],
 "metadata": {
  "kernelspec": {
   "display_name": "Python 3",
   "language": "python",
   "name": "python3"
  },
  "language_info": {
   "codemirror_mode": {
    "name": "ipython",
    "version": 3
   },
   "file_extension": ".py",
   "mimetype": "text/x-python",
   "name": "python",
   "nbconvert_exporter": "python",
   "pygments_lexer": "ipython3",
   "version": "3.7.6"
  }
 },
 "nbformat": 4,
 "nbformat_minor": 4
}
