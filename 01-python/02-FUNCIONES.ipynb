{
 "cells": [
  {
   "cell_type": "code",
   "execution_count": null,
   "metadata": {},
   "outputs": [],
   "source": [
    "#Funciones\n",
    "def hola_mundo():      # NoneType No devuelve Nada"
   ]
  },
  {
   "cell_type": "code",
   "execution_count": 3,
   "metadata": {},
   "outputs": [
    {
     "name": "stdout",
     "output_type": "stream",
     "text": [
      "Hola Mundo\n"
     ]
    },
    {
     "data": {
      "text/plain": [
       "NoneType"
      ]
     },
     "execution_count": 3,
     "metadata": {},
     "output_type": "execute_result"
    }
   ],
   "source": [
    "print(\"Hola Mundo\")\n",
    "type(hola_mundo())"
   ]
  },
  {
   "cell_type": "code",
   "execution_count": 4,
   "metadata": {
    "scrolled": true
   },
   "outputs": [
    {
     "name": "stdout",
     "output_type": "stream",
     "text": [
      "5\n"
     ]
    }
   ],
   "source": [
    "def sumas_dos_numeros(num_uno, num_dos): #Parametros Requeridos\n",
    "    return num_uno + num_dos\n",
    "print(sumas_dos_numeros(2,3))"
   ]
  },
  {
   "cell_type": "code",
   "execution_count": 5,
   "metadata": {},
   "outputs": [
    {
     "name": "stdout",
     "output_type": "stream",
     "text": [
      "La suma de dos y tres es: 5\n"
     ]
    }
   ],
   "source": [
    "def sumas_dos_numeros(num_uno, num_dos): #Parametros Requeridos\n",
    "    return num_uno + num_dos\n",
    "\n",
    "total_suma = sumas_dos_numeros(2,3)\n",
    "print(f\"La suma de dos y tres es: {total_suma}\")"
   ]
  },
  {
   "cell_type": "code",
   "execution_count": 8,
   "metadata": {},
   "outputs": [
    {
     "name": "stdout",
     "output_type": "stream",
     "text": [
      "Universidad: EPN\n",
      "Universidad: ESPE\n"
     ]
    }
   ],
   "source": [
    "def imprimir_universidad(nombre = \"EPN\"): # Parametros Opcionales\n",
    "    print(f\"Universidad: {nombre}\")       # Parametros por Defecto\n",
    "\n",
    "imprimir_universidad()\n",
    "imprimir_universidad(\"ESPE\")"
   ]
  },
  {
   "cell_type": "code",
   "execution_count": 1,
   "metadata": {},
   "outputs": [
    {
     "name": "stdout",
     "output_type": "stream",
     "text": [
      "Color: Azul\n",
      "Placa: ABC-123\n",
      "   HP: 3000\n",
      "  Año: 1989\n"
     ]
    }
   ],
   "source": [
    "#Regla 1: Primero se define Parametros Requeridos\n",
    "#Regla 2: Posteriormente se define Parametros Opcionales\n",
    "def imprimir_carro(color, placa, hp, anio = 1989):\n",
    "    print(f\"Color: {color}\\n\"\n",
    "          f\"Placa: {placa}\\n\"\n",
    "          f\"   HP: {hp}\\n\"\n",
    "          f\"  Año: {anio}\")\n",
    "\n",
    "imprimir_carro(\"Azul\", \"ABC-123\", 3000)\n"
   ]
  },
  {
   "cell_type": "code",
   "execution_count": 3,
   "metadata": {},
   "outputs": [
    {
     "name": "stdout",
     "output_type": "stream",
     "text": [
      "Color: celeste\n",
      "Placa: def-456\n",
      "   HP: 2500\n",
      "  Año: 1998\n"
     ]
    }
   ],
   "source": [
    "# NAMED PARAMETERS (Parametros Nombrados) \n",
    "# Recomendación utilizar solo parametros nombrados o por posición\n",
    "imprimir_carro(anio = 1998,\n",
    "              placa = \"def-456\",\n",
    "              hp = 2500,\n",
    "              color = \"celeste\")"
   ]
  },
  {
   "cell_type": "code",
   "execution_count": 4,
   "metadata": {},
   "outputs": [
    {
     "name": "stdout",
     "output_type": "stream",
     "text": [
      "Color: 1990\n",
      "Placa: ABC-123\n",
      "   HP: 3000\n",
      "  Año: 1999\n"
     ]
    }
   ],
   "source": [
    "# REGLA \n",
    "# Podemos usar parametros por posicion y luego todos los demas\n",
    "# Podemos usar parametros nombrados\n",
    "\n",
    "imprimir_carro(1990, \"ABC-123\", anio = 1999, hp=3000)"
   ]
  },
  {
   "cell_type": "code",
   "execution_count": 8,
   "metadata": {},
   "outputs": [
    {
     "name": "stdout",
     "output_type": "stream",
     "text": [
      "1\n",
      "(2, 3, 1, 2, 3, 4, 5, 6)\n",
      "<class 'tuple'>\n"
     ]
    }
   ],
   "source": [
    "def sumar_numeros(primer_numero,\n",
    "                 *numeros):    # Parametros Infinitos (*)\n",
    "    print(primer_numero)\n",
    "    print(numeros)\n",
    "    print(type(numeros))\n",
    "    \n",
    "sumar_numeros(1,2,3,1,2,3,4,5,6)"
   ]
  },
  {
   "cell_type": "code",
   "execution_count": 11,
   "metadata": {},
   "outputs": [
    {
     "data": {
      "text/plain": [
       "6"
      ]
     },
     "execution_count": 11,
     "metadata": {},
     "output_type": "execute_result"
    }
   ],
   "source": [
    "def sumar_numeros(primer_numero,\n",
    "                 *numeros):    # Parametros Infinitos (*)\n",
    "    suma = primer_numero\n",
    "    for numero in numeros:\n",
    "        suma = suma + numero\n",
    "    return suma\n",
    "    \n",
    "sumar_numeros(1,2,3)"
   ]
  },
  {
   "cell_type": "code",
   "execution_count": 13,
   "metadata": {},
   "outputs": [
    {
     "name": "stdout",
     "output_type": "stream",
     "text": [
      "{'saludo': 'hola', 'mensaje': 'mundo'}\n",
      "<class 'dict'>\n"
     ]
    }
   ],
   "source": [
    "# Utilizar en librerias para enviar en caso de editar todo el código\n",
    "\n",
    "def establecer_configuracion(**kwargs): # Key Word Arguments\n",
    "    print(kwargs)                       # Parametros Nombrados\n",
    "    print(type(kwargs))                 # Tipo Diccionario\n",
    "    \n",
    "establecer_configuracion(saludo = \"hola\", mensaje = \"mundo\")"
   ]
  },
  {
   "cell_type": "code",
   "execution_count": null,
   "metadata": {},
   "outputs": [],
   "source": [
    "# REGLAS\n",
    "def ejemplo(requerido_uno,     # 1. Parametros Requeridos\n",
    "           requerido_dos,\n",
    "           opcional_uno = 1,   # 2. Parametros Opcionales\n",
    "           opcional_dos = 2,\n",
    "           *infinitos,         # 3. Parametros Infinitos\n",
    "           **kwargs):          # 4. Key Words Arguments\n",
    "\n"
   ]
  }
 ],
 "metadata": {
  "kernelspec": {
   "display_name": "Python 3",
   "language": "python",
   "name": "python3"
  },
  "language_info": {
   "codemirror_mode": {
    "name": "ipython",
    "version": 3
   },
   "file_extension": ".py",
   "mimetype": "text/x-python",
   "name": "python",
   "nbconvert_exporter": "python",
   "pygments_lexer": "ipython3",
   "version": "3.7.6"
  }
 },
 "nbformat": 4,
 "nbformat_minor": 4
}