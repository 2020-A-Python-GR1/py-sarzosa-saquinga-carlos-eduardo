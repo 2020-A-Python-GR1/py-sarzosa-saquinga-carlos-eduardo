{
 "cells": [
  {
   "cell_type": "code",
   "execution_count": 1,
   "metadata": {},
   "outputs": [
    {
     "name": "stdout",
     "output_type": "stream",
     "text": [
      "Name error, variable no decalarada\n"
     ]
    }
   ],
   "source": [
    "# asasasas  NameError\n",
    "# das sada  SyntaxError\n",
    "# 0/0       ZeroDivisionError\n",
    "# a{'b'}    KeyError"
   ]
  },
  {
   "cell_type": "code",
   "execution_count": 15,
   "metadata": {},
   "outputs": [
    {
     "ename": "IndentationError",
     "evalue": "expected an indented block (<ipython-input-15-c42d025c7094>, line 7)",
     "output_type": "error",
     "traceback": [
      "\u001b[1;36m  File \u001b[1;32m\"<ipython-input-15-c42d025c7094>\"\u001b[1;36m, line \u001b[1;32m7\u001b[0m\n\u001b[1;33m    except NameError as error:\u001b[0m\n\u001b[1;37m         ^\u001b[0m\n\u001b[1;31mIndentationError\u001b[0m\u001b[1;31m:\u001b[0m expected an indented block\n"
     ]
    }
   ],
   "source": [
    "try:\n",
    "    # asasasas\n",
    "    # 0/0\n",
    "    # a ={'b':'b'}\n",
    "    # a['b']  \n",
    "    \n",
    "except NameError as error:\n",
    "    print(\"NAME ERROR, VARIABLE NO DECLARADA)\n",
    "except (ZeroDivisionError, KeyError) as errorComun:\n",
    "    print(\"Error comun Python\")\n",
    "except Exception as error:\n",
    "    print(error)"
   ]
  }
 ],
 "metadata": {
  "kernelspec": {
   "display_name": "Python 3",
   "language": "python",
   "name": "python3"
  },
  "language_info": {
   "codemirror_mode": {
    "name": "ipython",
    "version": 3
   },
   "file_extension": ".py",
   "mimetype": "text/x-python",
   "name": "python",
   "nbconvert_exporter": "python",
   "pygments_lexer": "ipython3",
   "version": "3.7.6"
  }
 },
 "nbformat": 4,
 "nbformat_minor": 4
}
