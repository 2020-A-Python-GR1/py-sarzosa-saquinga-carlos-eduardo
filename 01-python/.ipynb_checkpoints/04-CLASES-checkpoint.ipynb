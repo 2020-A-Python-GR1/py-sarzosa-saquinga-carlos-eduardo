{
 "cells": [
  {
   "cell_type": "code",
   "execution_count": 1,
   "metadata": {},
   "outputs": [
    {
     "data": {
      "text/plain": [
       "4"
      ]
     },
     "execution_count": 1,
     "metadata": {},
     "output_type": "execute_result"
    }
   ],
   "source": [
    "# Funciones Lambda\n",
    "def elevar_al_cuadrado(numero):\n",
    "    return numero * numero\n",
    "elevar_al_cuadrado(2)"
   ]
  },
  {
   "cell_type": "code",
   "execution_count": 2,
   "metadata": {},
   "outputs": [],
   "source": [
    "al_cuadrado = lambda x : x * x"
   ]
  },
  {
   "cell_type": "code",
   "execution_count": 3,
   "metadata": {},
   "outputs": [],
   "source": [
    "sumar_dos_numeros = lambda x, y : x + y"
   ]
  },
  {
   "cell_type": "code",
   "execution_count": 4,
   "metadata": {},
   "outputs": [
    {
     "data": {
      "text/plain": [
       "6"
      ]
     },
     "execution_count": 4,
     "metadata": {},
     "output_type": "execute_result"
    }
   ],
   "source": [
    "sumar_dos_numeros(2, 4)"
   ]
  },
  {
   "cell_type": "markdown",
   "metadata": {},
   "source": [
    "**CLASES**"
   ]
  },
  {
   "cell_type": "code",
   "execution_count": 5,
   "metadata": {},
   "outputs": [],
   "source": [
    "class Nada:\n",
    "    pass"
   ]
  },
  {
   "cell_type": "code",
   "execution_count": 6,
   "metadata": {},
   "outputs": [],
   "source": [
    "una_nada = Nada()"
   ]
  },
  {
   "cell_type": "code",
   "execution_count": 11,
   "metadata": {},
   "outputs": [
    {
     "name": "stdout",
     "output_type": "stream",
     "text": [
      "<__main__.Nada object at 0x000002868F994A48>\n",
      "<class '__main__.Nada'>\n"
     ]
    }
   ],
   "source": [
    "print(una_nada)\n",
    "print(type(una_nada))"
   ]
  },
  {
   "cell_type": "code",
   "execution_count": 13,
   "metadata": {},
   "outputs": [
    {
     "name": "stdout",
     "output_type": "stream",
     "text": [
      "Empezo el Constructor\n",
      "None\n"
     ]
    }
   ],
   "source": [
    "class Auto:\n",
    "    color = None        # Declaración atributo Público\n",
    "    __numero_chasis = 1 # Declaración atributo Privado\n",
    "    \n",
    "    def __init__(self, color):                 # Constructor\n",
    "        print(\"Empezo el Constructor\")         # Self = this, debe ser declarado\n",
    "        self.color = color\n",
    "    \n",
    "nuevo_auto = Auto(\"Rosado\")\n",
    "print(nuevo_auto.color)"
   ]
  },
  {
   "cell_type": "code",
   "execution_count": 16,
   "metadata": {},
   "outputs": [
    {
     "name": "stdout",
     "output_type": "stream",
     "text": [
      "Empezo el Constructor\n",
      "Rosado\n",
      "117.0\n"
     ]
    }
   ],
   "source": [
    "class Auto:\n",
    "    color = None                              # Atributos Públicos\n",
    "    __numero_chasis = 1                       # Atributos Privados\n",
    "     \n",
    "    def __init__(self, color):                # Constructor  self = this\n",
    "        print(\"Empezo el Constructor\")        \n",
    "        self.color = color\n",
    "    \n",
    "    def setear_chasis(self, nuevo_chasis):    # Métodos Pública\n",
    "        self.__numero_chasis = nuevo_chasis\n",
    "        return self.__calculo_chasis()        # Devuelve Método Privado\n",
    "    \n",
    "    def __calculo_chasis(self):               # Métodos Privado\n",
    "        return self.__numero_chasis * 1.17\n",
    "    \n",
    "    \n",
    "nuevo_auto = Auto(\"Rosado\")\n",
    "print(nuevo_auto.color)\n",
    "print(nuevo_auto.setear_chasis(100))"
   ]
  },
  {
   "cell_type": "code",
   "execution_count": 20,
   "metadata": {},
   "outputs": [
    {
     "name": "stdout",
     "output_type": "stream",
     "text": [
      "Empezo el Constructor\n",
      "117.0\n",
      "Color: Rosado \n",
      "Numero Chasis: 100\n"
     ]
    }
   ],
   "source": [
    "class Auto:\n",
    "    color = None                              # Atributos Públicos\n",
    "    __numero_chasis = 1                       # Atributos Privados\n",
    "     \n",
    "    def __init__(self, color):                # Constructor  self = this\n",
    "        print(\"Empezo el Constructor\")        \n",
    "        self.color = color\n",
    "    \n",
    "    def setear_chasis(self, nuevo_chasis):    # Métodos Pública\n",
    "        self.__numero_chasis = nuevo_chasis\n",
    "        return self.__calculo_chasis()        # Devuelve Método Privado\n",
    "    \n",
    "    def __calculo_chasis(self):               # Métodos Privado\n",
    "        return self.__numero_chasis * 1.17\n",
    "    \n",
    "    def __str__(self):                        # To String - Sobreescribir\n",
    "        parte_uno = f\"Color: {self.color} \\n\"\n",
    "        parte_dos = f\"Numero Chasis: {self.__numero_chasis}\"\n",
    "        return parte_uno + parte_dos\n",
    "    \n",
    "nuevo_auto = Auto(\"Rosado\")\n",
    "#print(nuevo_auto.color)\n",
    "print(nuevo_auto.setear_chasis(100))\n",
    "print(nuevo_auto)"
   ]
  },
  {
   "cell_type": "code",
   "execution_count": 21,
   "metadata": {},
   "outputs": [],
   "source": [
    "# Heredar Clase\n",
    "\n",
    "class BMW(Auto):\n",
    "    def __init__(self, color, chasis):\n",
    "        print(\"Iniciar constructor hijo\")\n",
    "        super().__init__(color)            # Llamar Constructor Padre\n",
    "        super().setear_chasis(chasis)      # Llamar a Método "
   ]
  },
  {
   "cell_type": "code",
   "execution_count": 22,
   "metadata": {},
   "outputs": [
    {
     "name": "stdout",
     "output_type": "stream",
     "text": [
      "Iniciar constructor hijo\n",
      "Empezo el Constructor\n",
      "Color: Blanco \n",
      "Numero Chasis: 150\n"
     ]
    }
   ],
   "source": [
    "nuevo_bmw = BMW(\"Blanco\", 150)\n",
    "print(nuevo_bmw)"
   ]
  },
  {
   "cell_type": "code",
   "execution_count": null,
   "metadata": {},
   "outputs": [],
   "source": []
  }
 ],
 "metadata": {
  "kernelspec": {
   "display_name": "Python 3",
   "language": "python",
   "name": "python3"
  },
  "language_info": {
   "codemirror_mode": {
    "name": "ipython",
    "version": 3
   },
   "file_extension": ".py",
   "mimetype": "text/x-python",
   "name": "python",
   "nbconvert_exporter": "python",
   "pygments_lexer": "ipython3",
   "version": "3.7.6"
  }
 },
 "nbformat": 4,
 "nbformat_minor": 4
}
