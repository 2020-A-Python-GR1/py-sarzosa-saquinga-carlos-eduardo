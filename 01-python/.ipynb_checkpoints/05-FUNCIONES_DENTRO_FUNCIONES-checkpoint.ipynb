{
 "cells": [
  {
   "cell_type": "code",
   "execution_count": 1,
   "metadata": {},
   "outputs": [
    {
     "data": {
      "text/plain": [
       "6"
      ]
     },
     "execution_count": 1,
     "metadata": {},
     "output_type": "execute_result"
    }
   ],
   "source": [
    "def calculadora(num_uno, num_dos):\n",
    "    def suma():\n",
    "        return num_uno + num_dos\n",
    "\n",
    "    def resta():\n",
    "        return num_uno - num_dos\n",
    "\n",
    "    def multiplicacion():\n",
    "        return num_uno * num_dos\n",
    "\n",
    "    def division():\n",
    "        return num_uno / num_dos\n",
    "\n",
    "    return suma()\n",
    "\n",
    "calculadora(2, 4)"
   ]
  },
  {
   "cell_type": "code",
   "execution_count": 2,
   "metadata": {},
   "outputs": [
    {
     "data": {
      "text/plain": [
       "6"
      ]
     },
     "execution_count": 2,
     "metadata": {},
     "output_type": "execute_result"
    }
   ],
   "source": [
    "def calculadora(num_uno, num_dos, operacion = \"suma\"):\n",
    "    def suma():\n",
    "        return num_uno + num_dos\n",
    "\n",
    "    def resta():\n",
    "        return num_uno - num_dos\n",
    "\n",
    "    def multiplicacion():\n",
    "        return num_uno * num_dos\n",
    "\n",
    "    def division():\n",
    "        return num_uno / num_dos\n",
    "\n",
    "    # Definición de la función\n",
    "    def devolver_respuesta():\n",
    "        opciones = {\n",
    "            \"suma\": suma,\n",
    "            \"resta\": resta,\n",
    "            \"multiplicacion\": multiplicacion,\n",
    "            \"division\": division\n",
    "        }\n",
    "        return opciones[operacion]()\n",
    "\n",
    "    return devolver_respuesta()\n",
    "\n",
    "calculadora(2, 4)"
   ]
  },
  {
   "cell_type": "code",
   "execution_count": 3,
   "metadata": {},
   "outputs": [
    {
     "data": {
      "text/plain": [
       "6"
      ]
     },
     "execution_count": 3,
     "metadata": {},
     "output_type": "execute_result"
    }
   ],
   "source": [
    "def calculadora(num_uno, num_dos, operacion = \"suma\"):\n",
    "    def suma():\n",
    "        return num_uno + num_dos\n",
    "\n",
    "    def resta():\n",
    "        return num_uno - num_dos\n",
    "\n",
    "    def multiplicacion():\n",
    "        return num_uno * num_dos\n",
    "\n",
    "    def division():\n",
    "        return num_uno / num_dos\n",
    "\n",
    "    # Ejecución de la función\n",
    "    def devolver_respuesta():\n",
    "        opciones = {\n",
    "            \"suma\": suma(),\n",
    "            \"resta\": resta(),\n",
    "            \"multiplicacion\": multiplicacion(),\n",
    "            \"division\": division()\n",
    "        }\n",
    "        \n",
    "        #opciones.suma()\n",
    "        #opciones[\"suma\"]()\n",
    "        #opciones[operacion]()\n",
    "        \n",
    "        return opciones[operacion]\n",
    "\n",
    "    return devolver_respuesta()\n",
    "\n",
    "calculadora(2, 4)"
   ]
  },
  {
   "cell_type": "code",
   "execution_count": 4,
   "metadata": {},
   "outputs": [
    {
     "name": "stdout",
     "output_type": "stream",
     "text": [
      "Dime tu edad31\n",
      "31\n",
      "<class 'str'>\n"
     ]
    }
   ],
   "source": [
    "edad = input(\"Dime tu edad\")\n",
    "print(edad)       # 31\n",
    "print(type(edad)) # str"
   ]
  },
  {
   "cell_type": "code",
   "execution_count": null,
   "metadata": {},
   "outputs": [],
   "source": []
  }
 ],
 "metadata": {
  "kernelspec": {
   "display_name": "Python 3",
   "language": "python",
   "name": "python3"
  },
  "language_info": {
   "codemirror_mode": {
    "name": "ipython",
    "version": 3
   },
   "file_extension": ".py",
   "mimetype": "text/x-python",
   "name": "python",
   "nbconvert_exporter": "python",
   "pygments_lexer": "ipython3",
   "version": "3.7.6"
  }
 },
 "nbformat": 4,
 "nbformat_minor": 4
}
