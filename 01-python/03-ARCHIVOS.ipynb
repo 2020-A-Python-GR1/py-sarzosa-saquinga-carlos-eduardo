{
 "cells": [
  {
   "cell_type": "code",
   "execution_count": 5,
   "metadata": {},
   "outputs": [
    {
     "name": "stdout",
     "output_type": "stream",
     "text": [
      "['Hola Archivo']\n"
     ]
    }
   ],
   "source": [
    "try:\n",
    "    path = \"./frases.txt\"\n",
    "    archivo_abierto = open(path)\n",
    "    # linea_uno = archivo_abierto.readline()    # Leer una linea \n",
    "    # print(linea_uno)                          # Muestra una linea\n",
    "    \n",
    "    lista_lineas = archivo_abierto.readlines()  # Leer varias lineas\n",
    "    print(lista_lineas)                         # Devuelve una lista de Lineas  \n",
    "    archivo_abierto.close()                     # Cierra el archivo para usar en otros procesos\n",
    "    \n",
    "except Exception as Error:\n",
    "    print(\"Error leyendo archivo\")"
   ]
  },
  {
   "cell_type": "code",
   "execution_count": 22,
   "metadata": {},
   "outputs": [],
   "source": [
    "try:\n",
    "    path = \"./frases.txt\"\n",
    "    #archivo_abierto = open(path,'w')  # w -> write\n",
    "    archivo_abierto = open(path,'a')  # a -> append\n",
    "    archivo_abierto.write(\"\\n Escribiendo Archivo\")\n",
    "    archivo_abierto.close()\n",
    "    \n",
    "except Exception as Error:\n",
    "    print(\"Error en Archivo\")"
   ]
  }
 ],
 "metadata": {
  "kernelspec": {
   "display_name": "Python 3",
   "language": "python",
   "name": "python3"
  },
  "language_info": {
   "codemirror_mode": {
    "name": "ipython",
    "version": 3
   },
   "file_extension": ".py",
   "mimetype": "text/x-python",
   "name": "python",
   "nbconvert_exporter": "python",
   "pygments_lexer": "ipython3",
   "version": "3.7.6"
  }
 },
 "nbformat": 4,
 "nbformat_minor": 4
}
